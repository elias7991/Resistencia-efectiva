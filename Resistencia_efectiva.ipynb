{
 "cells": [
  {
   "cell_type": "markdown",
   "metadata": {},
   "source": [
    "### Importancia de paquetes importados\n",
    "- networkx: necesario para el manejo de grafos\n",
    "- numpy: facilidad para manejar la matriz que representa al grafo con el objeto array y el operador @\n",
    "- random: usado para la creación de grafos"
   ]
  },
  {
   "cell_type": "code",
   "execution_count": 68,
   "metadata": {},
   "outputs": [],
   "source": [
    "import networkx as nx\n",
    "import numpy as np\n",
    "import random as rd"
   ]
  },
  {
   "cell_type": "markdown",
   "metadata": {},
   "source": [
    "#### Definicion de funcion encargada de generar aleatoriamente el grafo"
   ]
  },
  {
   "cell_type": "code",
   "execution_count": 77,
   "metadata": {},
   "outputs": [],
   "source": [
    "def creacion_grafo():\n",
    "    #Grafo no dirigido que permite lazos pero no aristas multiples\n",
    "    G = nx.Graph()\n",
    "    #definicion de numero de nodos\n",
    "    n = rd.randint(4,15)\n",
    "    \"\"\"\n",
    "    Si vieramos a un grafo como un poligono tenemos\n",
    "    numero de lados = n\n",
    "    numero de diagonales totales n*(n-3)/2\n",
    "    Total de enlaces posibles = numero de lados + numero de diagonales totales\n",
    "    Maximo numero de aristas = n*(n-1)/2\n",
    "    \"\"\"\n",
    "    m = rd.randint(1,((n*(n-1))/2))\n",
    "    #lista que alberga los nodos del grafo\n",
    "    nodos = []\n",
    "    #lista que alberga las aristas ponderadas del grafo\n",
    "    aristas = []\n",
    "    #completar lista de nodos\n",
    "    for i in range(n):\n",
    "        nodos.append(i)\n",
    "    #asignar nodos al grafo\n",
    "    G.add_nodes_from(nodos)\n",
    "    #completar la lista de aristas\n",
    "    for i in range(m):\n",
    "        a = rd.randint(1,n)\n",
    "        b = rd.randint(1,n)\n",
    "        #vamos cargando la lista de aristas con 3-tuplas del tipo (nodo,nodo,ponderacion)\n",
    "        aristas.append( (a,b,{'weight':rd.randint(1,5)}) )\n",
    "    #asignar aristas al grafo\n",
    "    G.add_edges_from(aristas)\n",
    "    return G"
   ]
  },
  {
   "cell_type": "markdown",
   "metadata": {},
   "source": [
    "#### Definicion de funcion encargada de retornar la matriz laplaciana de un grafo en formato array de numpy"
   ]
  },
  {
   "cell_type": "code",
   "execution_count": 70,
   "metadata": {},
   "outputs": [],
   "source": [
    "def matriz_laplaciana(G):\n",
    "    #laplacian_matrix() es una funcion de networkx que toma un grafo y retorna la laplaciana del mismo\n",
    "    L = nx.laplacian_matrix(G)\n",
    "    #conversion de tipo grafo de nx a array de np con toarray()\n",
    "    return L.toarray()"
   ]
  },
  {
   "cell_type": "markdown",
   "metadata": {},
   "source": [
    "#### Definicion de funcion encargada de retornar la matriz de incidencia de un grafo en formato array de numpy"
   ]
  },
  {
   "cell_type": "code",
   "execution_count": 71,
   "metadata": {},
   "outputs": [],
   "source": [
    "def matriz_incidencia(G):\n",
    "    #incidence_matrix(), funcion de networkx que toma un grafo y retorna la matriz de incidencia\n",
    "    B = nx.incidence_matrix(G, oriented=False)\n",
    "    return B.toarray()"
   ]
  },
  {
   "cell_type": "markdown",
   "metadata": {},
   "source": [
    "#### Definicion de funcion encargada de retornar la matriz de resistencia efectiva desde un grafo genérico G"
   ]
  },
  {
   "cell_type": "code",
   "execution_count": 72,
   "metadata": {},
   "outputs": [],
   "source": [
    "def matriz_resis_efect(G):\n",
    "    B = matriz_incidencia(G)\n",
    "    #linalg.pinv() es una funcion de numpy que computa la pseudoinversa de una matriz\n",
    "    Lp = np.linalg.pinv((matriz_laplaciana(G)))\n",
    "    #la matriz de resistencia efectiva se da por el producto de la siguientes matrices\n",
    "    #cada parte es un objeto array de numpy\n",
    "    return B.transpose()@Lp@B"
   ]
  },
  {
   "cell_type": "markdown",
   "metadata": {},
   "source": [
    "#### Definicion de la funcion principal"
   ]
  },
  {
   "cell_type": "code",
   "execution_count": 73,
   "metadata": {},
   "outputs": [],
   "source": [
    "def main():\n",
    "    #creacion de un grafo ponderado\n",
    "    G = creacion_grafo()\n",
    "    R = matriz_resis_efect(G)\n",
    "    print(\"Matriz de resistencia efectiva\")\n",
    "    print(R)"
   ]
  },
  {
   "cell_type": "code",
   "execution_count": 78,
   "metadata": {},
   "outputs": [
    {
     "name": "stdout",
     "output_type": "stream",
     "text": [
      "Matriz de resistencia efectiva\n",
      "[[ 0.11666667 -0.1       ]\n",
      " [-0.1         0.13333333]]\n"
     ]
    }
   ],
   "source": [
    "main()"
   ]
  },
  {
   "cell_type": "code",
   "execution_count": null,
   "metadata": {},
   "outputs": [],
   "source": []
  }
 ],
 "metadata": {
  "kernelspec": {
   "display_name": "Python 3",
   "language": "python",
   "name": "python3"
  },
  "language_info": {
   "codemirror_mode": {
    "name": "ipython",
    "version": 3
   },
   "file_extension": ".py",
   "mimetype": "text/x-python",
   "name": "python",
   "nbconvert_exporter": "python",
   "pygments_lexer": "ipython3",
   "version": "3.8.5"
  }
 },
 "nbformat": 4,
 "nbformat_minor": 4
}
